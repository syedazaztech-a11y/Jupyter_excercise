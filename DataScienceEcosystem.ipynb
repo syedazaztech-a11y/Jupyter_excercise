{
  "metadata": {
    "kernelspec": {
      "name": "python",
      "display_name": "Python (Pyodide)",
      "language": "python"
    },
    "language_info": {
      "codemirror_mode": {
        "name": "python",
        "version": 3
      },
      "file_extension": ".py",
      "mimetype": "text/x-python",
      "name": "python",
      "nbconvert_exporter": "python",
      "pygments_lexer": "ipython3",
      "version": "3.8"
    }
  },
  "nbformat_minor": 5,
  "nbformat": 4,
  "cells": [
    {
      "id": "d70e6f31-9d6b-4201-904c-24ceb0c5676d",
      "cell_type": "code",
      "source": "# Data Science Tools and Ecosystem\nIn this notebook, Data Science Tools and Ecosystem are summarized.  \n**objective**  \n+ list  \n+ adding and multiplying integers\n+ popular libraries\n+ languages in data science",
      "metadata": {
        "trusted": true
      },
      "outputs": [],
      "execution_count": null
    },
    {
      "id": "b195def8-b4f7-4504-af33-3400bf0a03bf",
      "cell_type": "markdown",
      "source": "## Some of the popular languages that Data Scientists use are: ##\n1.**Julia**  \n2.**Python**  \n3.**R**\n",
      "metadata": {}
    },
    {
      "id": "6f14fffa-c835-404e-94a8-1500899f5cb1",
      "cell_type": "markdown",
      "source": "## Some of the commonly used libraries used by Data Scientists include: ##\na.**Pandas**  \nb.**Numpy**  \nc.**matplotlib**  \n",
      "metadata": {}
    },
    {
      "id": "9846c1af-6b80-4c45-bd88-00342dde17d7",
      "cell_type": "markdown",
      "source": "|Data Science Tools|\n|------------------|\n|jupyter notebook  |  \n|Rstudio           |  \n|visual studio     |",
      "metadata": {}
    },
    {
      "id": "4194dc7f-ce73-4b35-acb7-f700bbcb3484",
      "cell_type": "markdown",
      "source": " # Arithmetic expression examples #\n\n### Below are a few examples of evaluating arithmetic expressions in Python ###",
      "metadata": {},
      "attachments": {}
    },
    {
      "id": "c3bac540-dfda-46c4-bc9c-913837c09c25",
      "cell_type": "code",
      "source": "# This a simple arithmetic expression to mutiply then add integers\nprint((3*4)+5)\n",
      "metadata": {
        "trusted": true
      },
      "outputs": [
        {
          "name": "stdout",
          "output_type": "stream",
          "text": "17\n"
        }
      ],
      "execution_count": 2
    },
    {
      "id": "229faafd-3913-408a-a6a2-ff17456d721b",
      "cell_type": "code",
      "source": "# This will convert 200 minutes to hours by diving by 60\nprint(200/60,\"hrs\")",
      "metadata": {
        "trusted": true
      },
      "outputs": [
        {
          "name": "stdout",
          "output_type": "stream",
          "text": "3.3333333333333335 hrs\n"
        }
      ],
      "execution_count": 4
    },
    {
      "id": "36977fa7-9cd9-4a18-abb6-669264d545ac",
      "cell_type": "markdown",
      "source": "## Author ##\nSyed Azaz Ali",
      "metadata": {}
    },
    {
      "id": "310c28dd-893b-4ed4-8f4c-6a62ee273a28",
      "cell_type": "markdown",
      "source": "",
      "metadata": {}
    }
  ]
}